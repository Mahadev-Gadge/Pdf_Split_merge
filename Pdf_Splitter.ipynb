{
 "cells": [
  {
   "cell_type": "markdown",
   "id": "85d8725e",
   "metadata": {},
   "source": [
    "# Pdf Splitter:"
   ]
  },
  {
   "cell_type": "code",
   "execution_count": 9,
   "id": "cbe5d4c3",
   "metadata": {},
   "outputs": [],
   "source": [
    "# Module import:\n",
    "\n",
    "import PyPDF2\n",
    "import os\n",
    "import re"
   ]
  },
  {
   "cell_type": "code",
   "execution_count": 7,
   "id": "fadfb939",
   "metadata": {},
   "outputs": [
    {
     "name": "stdout",
     "output_type": "stream",
     "text": [
      "Sucessfully done!\n"
     ]
    }
   ],
   "source": [
    "def pdf_splitter(file_path, page_range):\n",
    "    \"\"\"\n",
    "    This function responsible for splitting of pdf into number of individual pdfs\n",
    "    and also splits pdf pages based on page range.\n",
    "    \"\"\"\n",
    "\n",
    "    file_name=os.path.basename(file_path)\n",
    "    folder_name=os.path.dirname(file_path)\n",
    "\n",
    "    if os.path.isfile(file_path):\n",
    "        if file_name[-4:]=='.pdf' or re.search('.pdf', file_name):    \n",
    "            pdf_reader=PyPDF2.PdfReader(file_path)\n",
    "        else:\n",
    "            raise Exception(f'Provided file is not in pdf format.')\n",
    "    else:\n",
    "        raise Exception(f'Provided pdf path {file_path} does not exist.')\n",
    "\n",
    "    if not page_range:\n",
    "        for page_num in range(len(pdf_reader.pages)):\n",
    "            page_content=pdf_reader.pages[page_num]\n",
    "\n",
    "            new_pdf=open(os.path.join(folder_name, file_name)+'_'+str(page_num),\"wb\")  \n",
    "            pdf_writer=PyPDF2.PdfWriter()\n",
    "\n",
    "            pdf_writer.add_page(page_content)\n",
    "            pdf_writer.write(new_pdf)\n",
    "            new_pdf.close()\n",
    "    else:\n",
    "        pages=[int(page_num) for page_num in page_range.split(\"-\")]\n",
    "        new_pdf=open(os.path.join(folder_name, file_name)+'_'+str(pages[0])+\"-\"+str(pages[1]),\"wb\")\n",
    "        pdf_content=[]\n",
    "\n",
    "        pages[0]= 1 if pages[0]==0 else pages[0]\n",
    "        \n",
    "        for page_num in range(pages[0]-1, pages[1]):\n",
    "            page_content=pdf_reader.pages[page_num]\n",
    "            pdf_content.append(page_content)\n",
    "        \n",
    "        pdf_writer=PyPDF2.PdfWriter()\n",
    "        for page in range(len(pdf_content)):    \n",
    "            pdf_writer.add_page(pdf_content[page])\n",
    "            pdf_writer.write(new_pdf)\n",
    "        new_pdf.close()\n",
    "    print(\"Sucessfully done!\")\n",
    "\n",
    "if __name__==\"__main__\":\n",
    "    file_path=input(\"Please provide file path:\")\n",
    "    page_range=input(\"Enter page range in the format 1-2 for first two pages:\")\n",
    "    pdf_splitter(file_path, page_range)"
   ]
  },
  {
   "cell_type": "markdown",
   "id": "3acded0f",
   "metadata": {},
   "source": [
    "# Pdf Merger:"
   ]
  },
  {
   "cell_type": "code",
   "execution_count": 6,
   "id": "9f0ad2ee",
   "metadata": {},
   "outputs": [
    {
     "name": "stdout",
     "output_type": "stream",
     "text": [
      "Sucessfully done!\n"
     ]
    }
   ],
   "source": [
    "def pdf_merger(file_path1, file_path2):\n",
    "    \"\"\"\n",
    "    This function responsible for merging of two individual pdfs.\n",
    "    \"\"\"\n",
    "    \n",
    "    pdf_content=[]\n",
    "    \n",
    "    for pdf_file in [file_path1, file_path2]:\n",
    "        file_name=os.path.basename(pdf_file)\n",
    "        folder_name=os.path.dirname(pdf_file)\n",
    "        \n",
    "        if os.path.isfile(pdf_file):\n",
    "            if file_name[-4:]=='.pdf' or re.search('.pdf', file_name):    \n",
    "                pdf_reader=PyPDF2.PdfReader(pdf_file)\n",
    "            else:\n",
    "                raise Exception(f'Provided file is not in pdf format.')\n",
    "        else:\n",
    "            raise Exception(f'Provided pdf path {pdf_file} does not exist.')\n",
    "\n",
    "        for page_num in range(len(pdf_reader.pages)):\n",
    "            page_content=pdf_reader.pages[page_num]\n",
    "            pdf_content.append(page_content)\n",
    "\n",
    "    # Defining output file name.\n",
    "    output_file=open(folder_name+os.sep+file_name[:-4]+str('_merged.pdf'),'ab')\n",
    "    pdf_writer=PyPDF2.PdfWriter()\n",
    "\n",
    "    for page in range(len(pdf_content)):\n",
    "        pdf_writer.add_page(pdf_content[page])\n",
    "        pdf_writer.write(output_file)\n",
    "    output_file.close()\n",
    "    \n",
    "    print(\"Sucessfully done!\")\n",
    "\n",
    "if __name__=='__main__':\n",
    "    file_path1=input(\"Please provide file path:\")\n",
    "    file_path2=input(\"Please provide file path:\")\n",
    "    pdf_merger(file_path1, file_path2)"
   ]
  }
 ],
 "metadata": {
  "kernelspec": {
   "display_name": "Python 3 (ipykernel)",
   "language": "python",
   "name": "python3"
  },
  "language_info": {
   "codemirror_mode": {
    "name": "ipython",
    "version": 3
   },
   "file_extension": ".py",
   "mimetype": "text/x-python",
   "name": "python",
   "nbconvert_exporter": "python",
   "pygments_lexer": "ipython3",
   "version": "3.10.6"
  }
 },
 "nbformat": 4,
 "nbformat_minor": 5
}
