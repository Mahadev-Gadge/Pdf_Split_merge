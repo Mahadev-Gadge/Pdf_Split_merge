{
 "cells": [
  {
   "cell_type": "markdown",
   "id": "a6ff2004",
   "metadata": {},
   "source": [
    "# Pdf Splitter:"
   ]
  },
  {
   "cell_type": "code",
   "execution_count": 1,
   "id": "7b11467c",
   "metadata": {},
   "outputs": [],
   "source": [
    "import PyPDF2\n",
    "import os\n",
    "import re"
   ]
  },
  {
   "cell_type": "code",
   "execution_count": 47,
   "id": "14e5d788",
   "metadata": {},
   "outputs": [
    {
     "name": "stdout",
     "output_type": "stream",
     "text": [
      "Please provide file path:/home/mahadev/Downloads/US_Declaration.pdf\n",
      "Sucessfully done!\n"
     ]
    }
   ],
   "source": [
    "def pdf_splitter(file_path):\n",
    "    \"\"\"\n",
    "    This function responsible for splitting of pdf into individual pdfs.\n",
    "    \"\"\"\n",
    "\n",
    "    file_name=os.path.basename(file_path)\n",
    "    folder_name=os.path.dirname(file_path)\n",
    "\n",
    "    if os.path.isfile(file_path):\n",
    "        if file_name[-4:]=='.pdf' or re.search('.pdf', file_name):    \n",
    "            pdf_reader=PyPDF2.PdfReader(file_path)\n",
    "        else:\n",
    "            raise Exception(f'Provided file is not in pdf format.')\n",
    "    else:\n",
    "        raise Exception(f'Provided pdf path {file_path} does not exist.')\n",
    "\n",
    "    for page_num in range(len(pdf_reader.pages)):\n",
    "        page_content=pdf_reader.pages[page_num]\n",
    "\n",
    "        new_pdf=open(os.path.join(folder_name, file_name)+'_'+str(page_num),\"wb\")  \n",
    "        pdf_writer=PyPDF2.PdfWriter()\n",
    "\n",
    "        pdf_writer.add_page(page_content)\n",
    "        pdf_writer.write(new_pdf)\n",
    "        new_pdf.close()\n",
    "    print(\"Sucessfully done!\")\n",
    "\n",
    "if __name__==\"__main__\":\n",
    "    file_path=input(\"Please provide file path:\")\n",
    "    pdf_splitter(file_path)"
   ]
  },
  {
   "cell_type": "markdown",
   "id": "5569e57d",
   "metadata": {},
   "source": [
    "# Pdf Merger:"
   ]
  },
  {
   "cell_type": "code",
   "execution_count": 46,
   "id": "008cd4b4",
   "metadata": {},
   "outputs": [
    {
     "name": "stdout",
     "output_type": "stream",
     "text": [
      "Please provide file path:/home/mahadev/Downloads/US_Declaration.pdf\n",
      "Please provide file path:/home/mahadev/Downloads/US_Declaration.pdf\n",
      "Sucessfully done!\n"
     ]
    }
   ],
   "source": [
    "def pdf_merger(file_path1, file_path2):\n",
    "    \"\"\"\n",
    "    This function responsible for merging of two individual pdfs.\n",
    "    \"\"\"\n",
    "    \n",
    "    pdf_content=[]\n",
    "    \n",
    "    for pdf_file in [file_path1, file_path2]:\n",
    "        file_name=os.path.basename(pdf_file)\n",
    "        folder_name=os.path.dirname(pdf_file)\n",
    "        \n",
    "        if os.path.isfile(pdf_file):\n",
    "            if file_name[-4:]=='.pdf' or re.search('.pdf', file_name):    \n",
    "                pdf_reader=PyPDF2.PdfReader(pdf_file)\n",
    "            else:\n",
    "                raise Exception(f'Provided file is not in pdf format.')\n",
    "        else:\n",
    "            raise Exception(f'Provided pdf path {pdf_file} does not exist.')\n",
    "\n",
    "        for page_num in range(len(pdf_reader.pages)):\n",
    "            page_content=pdf_reader.pages[page_num]\n",
    "            pdf_content.append(page_content)\n",
    "\n",
    "    # Defining output file name.\n",
    "    output_file=open(folder_name+os.sep+file_name[:-4]+str('_merged.pdf'),'ab')\n",
    "    pdf_writer=PyPDF2.PdfWriter()\n",
    "\n",
    "    for page in range(len(pdf_content)):\n",
    "        pdf_writer.add_page(pdf_content[page])\n",
    "        pdf_writer.write(output_file)\n",
    "    output_file.close()\n",
    "    \n",
    "    print(\"Sucessfully done!\")\n",
    "\n",
    "if __name__=='__main__':\n",
    "    file_path1=input(\"Please provide file path:\")\n",
    "    file_path2=input(\"Please provide file path:\")\n",
    "    pdf_merger(file_path1, file_path2)"
   ]
  },
  {
   "cell_type": "code",
   "execution_count": null,
   "id": "1b72851f",
   "metadata": {},
   "outputs": [],
   "source": []
  }
 ],
 "metadata": {
  "kernelspec": {
   "display_name": "Python 3",
   "language": "python",
   "name": "python3"
  },
  "language_info": {
   "codemirror_mode": {
    "name": "ipython",
    "version": 3
   },
   "file_extension": ".py",
   "mimetype": "text/x-python",
   "name": "python",
   "nbconvert_exporter": "python",
   "pygments_lexer": "ipython3",
   "version": "3.8.10"
  }
 },
 "nbformat": 4,
 "nbformat_minor": 5
}
